{
 "cells": [
  {
   "cell_type": "code",
   "execution_count": 1,
   "id": "062bec2b",
   "metadata": {},
   "outputs": [
    {
     "name": "stdout",
     "output_type": "stream",
     "text": [
      "HOPE AI\n"
     ]
    }
   ],
   "source": [
    "#print Statement\n",
    "print(\"HOPE AI\")"
   ]
  },
  {
   "cell_type": "code",
   "execution_count": 31,
   "id": "14d2dbb4",
   "metadata": {},
   "outputs": [
    {
     "name": "stdout",
     "output_type": "stream",
     "text": [
      "Welcome to Assignment-1\n"
     ]
    }
   ],
   "source": [
    "#Welcome to Assignment-1\n",
    "\n",
    "print(\"Welcome to Assignment-1\")"
   ]
  },
  {
   "cell_type": "code",
   "execution_count": 2,
   "id": "6e2e6480",
   "metadata": {},
   "outputs": [
    {
     "name": "stdout",
     "output_type": "stream",
     "text": [
      "Enter your institute name:?HOPE AI\n"
     ]
    }
   ],
   "source": [
    "# Buy input\n",
    "num1=input(\"Enter your institute name:?\")"
   ]
  },
  {
   "cell_type": "code",
   "execution_count": 32,
   "id": "6c7dadba",
   "metadata": {},
   "outputs": [
    {
     "name": "stdout",
     "output_type": "stream",
     "text": [
      "40\n"
     ]
    }
   ],
   "source": [
    "num1=10\n",
    "num2=30\n",
    "add=num1+num2\n",
    "print(add)"
   ]
  },
  {
   "cell_type": "code",
   "execution_count": 33,
   "id": "92bc0bfc",
   "metadata": {},
   "outputs": [
    {
     "name": "stdout",
     "output_type": "stream",
     "text": [
      "BMI Index Calculator:\n",
      "Enter the BMI Index :34\n",
      "Obese\n"
     ]
    }
   ],
   "source": [
    "#Body Mass Index\n",
    "\n",
    "print(\"BMI Index Calculator:\")\n",
    "Value=int(input(\"Enter the BMI Index :\"))\n",
    "if(Value<18.5):\n",
    "    print(\"Under Weight\")\n",
    "elif(Value<24.9):\n",
    "    print(\"Normal\")\n",
    "elif(Value<29.9):\n",
    "    print(\"Over Weight\")\n",
    "elif(Value<39.9):\n",
    "    print(\"Obese\")\n",
    "else:\n",
    "    print(\"Extremely Obese\")"
   ]
  },
  {
   "cell_type": "code",
   "execution_count": 3,
   "id": "48dcb797",
   "metadata": {},
   "outputs": [
    {
     "name": "stdout",
     "output_type": "stream",
     "text": [
      "Enter your name:Raj\n",
      "Enter your age:15\n",
      "Enter your school name:Guru school\n",
      "Enter your degree: B.E CSE\n"
     ]
    }
   ],
   "source": [
    "#Buy inputs\n",
    "Name=input(\"Enter your name:\")\n",
    "Age=input(\"Enter your age:\")\n",
    "SchoolName=input(\"Enter your school name:\")\n",
    "Degree=input(\"Enter your degree:\")"
   ]
  },
  {
   "cell_type": "code",
   "execution_count": 4,
   "id": "08157abb",
   "metadata": {},
   "outputs": [
    {
     "name": "stdout",
     "output_type": "stream",
     "text": [
      "a=43\n",
      "b=34\n",
      "add= 77\n"
     ]
    }
   ],
   "source": [
    "#Addition\n",
    "A=int(input(\"a=\"))\n",
    "B=int(input(\"b=\"))\n",
    "add=(A+B)\n",
    "print(\"add=\",add)"
   ]
  },
  {
   "cell_type": "code",
   "execution_count": 5,
   "id": "8c6bdbd6",
   "metadata": {},
   "outputs": [
    {
     "name": "stdout",
     "output_type": "stream",
     "text": [
      "a=43\n",
      "b=34\n",
      "Sub= 9\n"
     ]
    }
   ],
   "source": [
    "#Subtraction\n",
    "A=int(input(\"a=\"))\n",
    "B=int(input(\"b=\"))\n",
    "Sub=(A-B)\n",
    "print(\"Sub=\",Sub)"
   ]
  },
  {
   "cell_type": "code",
   "execution_count": 6,
   "id": "40ae80e2",
   "metadata": {},
   "outputs": [
    {
     "name": "stdout",
     "output_type": "stream",
     "text": [
      "a=63\n",
      "b=97\n",
      "Mul= 6111\n"
     ]
    }
   ],
   "source": [
    "#Multiplication\n",
    "A=int(input(\"a=\"))\n",
    "B=int(input(\"b=\"))\n",
    "Mul=(A*B)\n",
    "print(\"Mul=\",Mul)"
   ]
  },
  {
   "cell_type": "code",
   "execution_count": 7,
   "id": "dcd67ee0",
   "metadata": {},
   "outputs": [
    {
     "name": "stdout",
     "output_type": "stream",
     "text": [
      "a=76\n",
      "b=31\n",
      "Div= 2.4516129032258065\n"
     ]
    }
   ],
   "source": [
    "#Division \n",
    "#In divison, it will repeat all the values along with the decimal values.\n",
    "\n",
    "A=int(input(\"a=\"))\n",
    "B=int(input(\"b=\"))\n",
    "Div=(A/B)\n",
    "print(\"Div=\",Div)"
   ]
  },
  {
   "cell_type": "code",
   "execution_count": 9,
   "id": "9e06cc73",
   "metadata": {},
   "outputs": [
    {
     "name": "stdout",
     "output_type": "stream",
     "text": [
      "a=76\n",
      "b=31\n",
      "floordivison= 2\n"
     ]
    }
   ],
   "source": [
    "#Floor division\n",
    "#In floor divison operator, it wont take the values after the decimal point.\n",
    "#Example: \n",
    "10/3=3.3333\n",
    "#It will take only(Qutotinet la irukara integer part uhh mattum than repeat pannum) 3 as integer, and reject the decimal values.\n",
    "\n",
    "A=int(input(\"a=\"))\n",
    "B=int(input(\"b=\"))\n",
    "floordivison=(A//B)\n",
    "print(\"floordivison=\",floordivison)"
   ]
  },
  {
   "cell_type": "code",
   "execution_count": 10,
   "id": "57b3cf33",
   "metadata": {},
   "outputs": [
    {
     "name": "stdout",
     "output_type": "stream",
     "text": [
      "a=76\n",
      "b=31\n",
      "Modulo= 14\n"
     ]
    }
   ],
   "source": [
    "#Modulo\n",
    "#In modulo, the same eg:10/3, decimal point vecha tha further uhh divide panna mudiyum na, athu stop panidum, remainder value(in this  eg;1) uhh return pannum.\n",
    "\n",
    "A=int(input(\"a=\"))\n",
    "B=int(input(\"b=\"))\n",
    "Modulo=(A%B)\n",
    "print(\"Modulo=\",Modulo)"
   ]
  },
  {
   "cell_type": "code",
   "execution_count": 11,
   "id": "62d21936",
   "metadata": {},
   "outputs": [
    {
     "name": "stdout",
     "output_type": "stream",
     "text": [
      "a=4\n",
      "b=4\n",
      "Power= 256\n"
     ]
    }
   ],
   "source": [
    "#Power\n",
    "#Power means a**b eg:10**3=10x10x10=1000\n",
    "\n",
    "A=int(input(\"a=\"))\n",
    "B=int(input(\"b=\"))\n",
    "Power=(A**B)\n",
    "print(\"Power=\",Power)"
   ]
  },
  {
   "cell_type": "code",
   "execution_count": 13,
   "id": "40915017",
   "metadata": {},
   "outputs": [
    {
     "name": "stdout",
     "output_type": "stream",
     "text": [
      "0\n",
      "1\n",
      "2\n",
      "3\n",
      "4\n",
      "5\n",
      "6\n",
      "7\n",
      "8\n",
      "9\n",
      "10\n",
      "11\n",
      "12\n",
      "13\n",
      "14\n",
      "15\n",
      "16\n",
      "17\n",
      "18\n",
      "19\n"
     ]
    }
   ],
   "source": [
    "# print 0 to 20 by using range\n",
    "\n",
    "for num in range(0,20):\n",
    "    print(num)"
   ]
  },
  {
   "cell_type": "code",
   "execution_count": 14,
   "id": "66ba7318",
   "metadata": {},
   "outputs": [
    {
     "name": "stdout",
     "output_type": "stream",
     "text": [
      "10\n",
      "11\n",
      "12\n",
      "13\n",
      "14\n",
      "15\n",
      "16\n",
      "17\n",
      "18\n",
      "19\n"
     ]
    }
   ],
   "source": [
    "# print range 10 to 20\n",
    "\n",
    "for num in range(10,20):\n",
    "    print(num)"
   ]
  },
  {
   "cell_type": "code",
   "execution_count": 15,
   "id": "d2408ad5",
   "metadata": {},
   "outputs": [
    {
     "name": "stdout",
     "output_type": "stream",
     "text": [
      "Number of items in the list: 7\n"
     ]
    }
   ],
   "source": [
    "# Print number of items in the list by using 'len'\n",
    "\n",
    "my_list = [10, 20, 14, 55, 43,87,76]\n",
    "number_of_items = len(my_list)\n",
    "print(\"Number of items in the list:\",number_of_items)"
   ]
  },
  {
   "cell_type": "code",
   "execution_count": 16,
   "id": "807463bc",
   "metadata": {},
   "outputs": [
    {
     "name": "stdout",
     "output_type": "stream",
     "text": [
      "Enter a string:\n",
      "ARTIFICAL INTELLIGENCE\n",
      "A\n",
      "R\n",
      "T\n",
      "I\n",
      "F\n",
      "I\n",
      "C\n",
      "A\n",
      "L\n",
      " \n",
      " \n",
      " \n",
      "I\n",
      "N\n",
      "T\n",
      "E\n",
      "L\n",
      "L\n",
      "I\n",
      "G\n",
      "E\n",
      "N\n",
      "C\n",
      "E\n"
     ]
    }
   ],
   "source": [
    "def verticalPrint(astring):\n",
    "    wordList = astring.split(\" \")\n",
    "    wordAmount = len(wordList)\n",
    "\n",
    "    maxLen = 0\n",
    "    for i in range (wordAmount):\n",
    "        length = len(wordList[i])\n",
    "        if length >= maxLen:\n",
    "            maxLen = length\n",
    "\n",
    "    ### makes all words the same length to avoid range errors ###\n",
    "    for i in range (wordAmount):\n",
    "        if len(wordList[i]) < maxLen:\n",
    "            wordList[i] = wordList[i] + (\" \")*(maxLen-len(wordList[i]))\n",
    "\n",
    "    for i in range (wordAmount):\n",
    "        for j in range (maxLen):\n",
    "            print(wordList[i][j])\n",
    "\n",
    "def main():\n",
    "    astring = input(\"Enter a string:\" + '\\n')\n",
    "\n",
    "    verticalPrint(astring)\n",
    "\n",
    "main()"
   ]
  },
  {
   "cell_type": "code",
   "execution_count": 17,
   "id": "46135e67",
   "metadata": {},
   "outputs": [
    {
     "name": "stdout",
     "output_type": "stream",
     "text": [
      "-Your name-\n",
      "-Your Age-\n",
      "-Your Profession-\n"
     ]
    }
   ],
   "source": [
    "# Tuple unpacking\n",
    "Tuple1 = (\"-Your name-\", \"-Your Age-\", \"-Your Profession-\")\n",
    "\n",
    "# This line unpack\n",
    "# values of Tuple1\n",
    "a, b, c = Tuple1\n",
    "print(a)\n",
    "print(b)\n",
    "print(c)"
   ]
  },
  {
   "cell_type": "code",
   "execution_count": 18,
   "id": "93c687f5",
   "metadata": {},
   "outputs": [
    {
     "name": "stdout",
     "output_type": "stream",
     "text": [
      "[(1, 'Welcome'), (2, 'Hope')]\n"
     ]
    }
   ],
   "source": [
    "# Print This mixered datatype using Tuples\n",
    "\n",
    "test_list = [(1, 'Welcome'), (2, 'Hope')]\n",
    " \n",
    "# printing original list \n",
    "print(str(test_list))"
   ]
  },
  {
   "cell_type": "code",
   "execution_count": 19,
   "id": "38c4bccf",
   "metadata": {},
   "outputs": [
    {
     "name": "stdout",
     "output_type": "stream",
     "text": [
      "((0, 1, 2, 3), ('python', 'Hope'))\n"
     ]
    }
   ],
   "source": [
    "# Creating a Tuple\n",
    "# with nested tuples\n",
    "Tuple1 = (0, 1, 2, 3)\n",
    "Tuple2 = ('python', 'Hope')\n",
    "Tuple3 = (Tuple1, Tuple2)\n",
    "\n",
    "print(Tuple3)"
   ]
  },
  {
   "cell_type": "code",
   "execution_count": 20,
   "id": "5870ee6e",
   "metadata": {},
   "outputs": [
    {
     "name": "stdout",
     "output_type": "stream",
     "text": [
      "19 25 1 "
     ]
    }
   ],
   "source": [
    "# print Odd Numbers in the list\n",
    "\n",
    "# Python program to print odd Numbers in a List\n",
    "\n",
    "# list of numbers\n",
    "list1 = [20,10,16,19,25,1,276,188]\n",
    "\n",
    "# iterating each number in list\n",
    "for num in list1:\n",
    "\n",
    "    # checking condition\n",
    "    if num % 2 != 0:\n",
    "        print(num, end=\" \")"
   ]
  },
  {
   "cell_type": "code",
   "execution_count": 21,
   "id": "28eaab4f",
   "metadata": {},
   "outputs": [
    {
     "name": "stdout",
     "output_type": "stream",
     "text": [
      "20 10 16 276 188 "
     ]
    }
   ],
   "source": [
    "# print Even numbers in the list\n",
    "\n",
    "# list of numbers\n",
    "list1 = [20,10,16,19,25,1,276,188]\n",
    "\n",
    "# iterating each number in list\n",
    "for num in list1:\n",
    "\n",
    "    # checking condition\n",
    "    if num % 2 == 0:\n",
    "        print(num, end=\" \")"
   ]
  },
  {
   "cell_type": "code",
   "execution_count": 22,
   "id": "52dd5e84",
   "metadata": {},
   "outputs": [
    {
     "name": "stdout",
     "output_type": "stream",
     "text": [
      "Sub-fields in AI are:\n",
      "Machine Learning\n",
      "Neural Networks\n",
      "Vision\n",
      "Robotics\n",
      "Speech Processing\n",
      "Natural Language Processing\n"
     ]
    }
   ],
   "source": [
    "# Create a class and function, and list out the items in the list\n",
    "\n",
    "# Python program to illustrate Negative Indexing\n",
    "my_list = ['Sub-fields in AI are:', 'Machine Learning', 'Neural Networks', 'Vision', 'Robotics', 'Speech Processing', 'Natural Language Processing']\n",
    "\n",
    "print(my_list[0])\n",
    "print(my_list[1])\n",
    "print(my_list[2])\n",
    "print(my_list[3])\n",
    "print(my_list[4])\n",
    "print(my_list[5])\n",
    "print(my_list[6])"
   ]
  },
  {
   "cell_type": "code",
   "execution_count": 23,
   "id": "afa5bff0",
   "metadata": {},
   "outputs": [
    {
     "name": "stdout",
     "output_type": "stream",
     "text": [
      "Enter the number:52452\n",
      "even number\n"
     ]
    }
   ],
   "source": [
    "# Create a function that checks whether the given number is Odd or Even\n",
    "\n",
    "num=int(input(\"Enter the number:\"))\n",
    "if ((num%2)==1):\n",
    "    print(\"Odd number\")\n",
    "else:\n",
    "    print(\"even number\")"
   ]
  },
  {
   "cell_type": "code",
   "execution_count": 26,
   "id": "8081439c",
   "metadata": {},
   "outputs": [
    {
     "name": "stdout",
     "output_type": "stream",
     "text": [
      "93.60000000000001\n"
     ]
    }
   ],
   "source": [
    "Subject1 = 98\n",
    "Subject2 = 87\n",
    "Subject3 = 95\n",
    "Subject4 = 95\n",
    "Subject5 = 93\n",
    "total= 500\n",
    "obtain = Subject1+Subject2+Subject3+Subject4+Subject5\n",
    "percentage =(obtain/total)*100\n",
    "print(percentage)"
   ]
  },
  {
   "cell_type": "code",
   "execution_count": 28,
   "id": "f22d2e0c",
   "metadata": {},
   "outputs": [
    {
     "name": "stdout",
     "output_type": "stream",
     "text": [
      "Subject1::98\n",
      "Subject2::87\n",
      "Subject3::95\n",
      "Subject4::95\n",
      "Subject5::93\n",
      "Total : 468\n",
      "average:: 56.0\n",
      "percentage:: 93.60000000000001\n"
     ]
    }
   ],
   "source": [
    "marks1= int(input(\"Subject1::\"))\n",
    "marks2= int(input(\"Subject2::\"))\n",
    "marks3= int(input(\"Subject3::\"))\n",
    "marks4= int(input(\"Subject4::\"))\n",
    "marks5= int(input(\"Subject5::\"))\n",
    "obtain = Subject1+Subject2+Subject3+Subject4+Subject5\n",
    "Total=(marks1+marks2+marks3+marks4+marks5)\n",
    "average = (marks1+marks2+marks3)/5.\n",
    "percentage =(obtain/total)*100\n",
    "print(\"Total :\",Total)\n",
    "print(\"average::\",average )\n",
    "print(\"percentage::\",percentage )"
   ]
  },
  {
   "cell_type": "code",
   "execution_count": 29,
   "id": "e0b7fb1e",
   "metadata": {},
   "outputs": [
    {
     "name": "stdout",
     "output_type": "stream",
     "text": [
      "Enter base of a triangle: 32\n",
      "Enter height of a triangle: 34\n",
      "The area of the triangle is 544.00\n"
     ]
    }
   ],
   "source": [
    " #print area and perimeter of triangle using class and functions\n",
    "    \n",
    "b = float(input('Enter base of a triangle: '))\n",
    "h = float(input('Enter height of a triangle: '))\n",
    "\n",
    "area = (b * h) / 2\n",
    "print('The area of the triangle is %0.2f' % area)    "
   ]
  },
  {
   "cell_type": "code",
   "execution_count": 30,
   "id": "39090e36",
   "metadata": {},
   "outputs": [
    {
     "name": "stdout",
     "output_type": "stream",
     "text": [
      "Side A: 2\n",
      "Side B: 4\n",
      "Side C: 4\n",
      "Perimeter: 10.0\n"
     ]
    }
   ],
   "source": [
    "def triangle_perimeter(a,b,c):\n",
    "  return round(a + b + c, 4)\n",
    "\n",
    "side_a = float(input(\"Side A: \"))\n",
    "\n",
    "# Do the same for side lengths 'b' and 'c'\n",
    "side_b = float(input(\"Side B: \"))\n",
    "side_c = float(input(\"Side C: \"))\n",
    "\n",
    "# Compute the perimeter of the triangle using the function triangle_perimeter()\n",
    "perimeter = triangle_perimeter(side_a,side_b,side_c)\n",
    "\n",
    "# Output the computed perimeter of the triangle, prepended with \"Perimeter:\"\n",
    "print(\"Perimeter:\", perimeter)"
   ]
  },
  {
   "cell_type": "code",
   "execution_count": 34,
   "id": "276ee303",
   "metadata": {},
   "outputs": [
    {
     "name": "stdout",
     "output_type": "stream",
     "text": [
      "value:10\n",
      "Correct\n"
     ]
    }
   ],
   "source": [
    "# print 'CORRECT' if i == 10\n",
    "\n",
    "a=int(input(\"value:\"))\n",
    "if(a<18):\n",
    "    print(\"Correct\")\n",
    "else:\n",
    "    print(\"wrong\")"
   ]
  },
  {
   "cell_type": "code",
   "execution_count": 35,
   "id": "3ad60893",
   "metadata": {},
   "outputs": [
    {
     "name": "stdout",
     "output_type": "stream",
     "text": [
      "enter the username:Hope\n",
      "enter the password:Hope@123\n",
      "Your password is correct\n"
     ]
    }
   ],
   "source": [
    "# Check the password, using if and else\n",
    "\n",
    "username=input(\"enter the username:\")\n",
    "password=input(\"enter the password:\")\n",
    "if username== \"Hope\" and password ==\"Hope@123\":\n",
    "    print(\"Your password is correct\")"
   ]
  },
  {
   "cell_type": "code",
   "execution_count": 36,
   "id": "93a4d15b",
   "metadata": {},
   "outputs": [
    {
     "name": "stdout",
     "output_type": "stream",
     "text": [
      "Enter the age:20\n",
      "Adult\n"
     ]
    }
   ],
   "source": [
    "#Catagory the people by their age like children, adult, citizen, senior citizen\n",
    "\n",
    "age=int(input(\"Enter the age:\"))\n",
    "if(age<18):\n",
    "    print(\"Children\")\n",
    "elif(age<25):\n",
    "    print(\"Adult\")\n",
    "elif(age<35):\n",
    "    print(\"Citizen\")\n",
    "else:\n",
    "    print(\"Senior Citizen\")"
   ]
  },
  {
   "cell_type": "code",
   "execution_count": 37,
   "id": "cc78ef3a",
   "metadata": {},
   "outputs": [
    {
     "name": "stdout",
     "output_type": "stream",
     "text": [
      "Enter a number: 1\n",
      "Positive number\n"
     ]
    }
   ],
   "source": [
    "# Find whether given number is positive or negative\n",
    "\n",
    "#If a number is greater than zero, it is a positive number. \n",
    "#If a number is less than zero, it is a negative number. \n",
    "#If a number equals to zero, it is zero.\n",
    "\n",
    "num = float(input(\"Enter a number: \"))\n",
    "if num > 0:\n",
    "   print(\"Positive number\")\n",
    "elif num == 0:\n",
    "   print(\"Zero\")\n",
    "else:\n",
    "   print(\"Negative number\")"
   ]
  },
  {
   "cell_type": "code",
   "execution_count": 38,
   "id": "5dce409e",
   "metadata": {},
   "outputs": [
    {
     "name": "stdout",
     "output_type": "stream",
     "text": [
      "Enter a number: 22\n",
      "The number entered isn't divisible by 5.\n"
     ]
    }
   ],
   "source": [
    "# Check whether the given number is divisible by 5\n",
    "\n",
    "#The divisibility rule of 5 states that \n",
    "#if the digit on the units place, that is, \n",
    "#the last digit of a given number is 5 or 0, \n",
    "#then such a number is divisible by 5. \n",
    "#For example, in 39865, the last digit is 5, \n",
    "#hence, the number is completely divisible by 5.\n",
    "\n",
    "num = float(input(\"Enter a number: \"))\n",
    "if num%5 == 0: \n",
    "    print(\"The number entered is divisible by 5.\")\n",
    "    \n",
    "else: print(\"The number entered isn't divisible by 5.\")\n"
   ]
  },
  {
   "cell_type": "code",
   "execution_count": 39,
   "id": "3980d290",
   "metadata": {},
   "outputs": [
    {
     "name": "stdout",
     "output_type": "stream",
     "text": [
      "Enter your name: vicky\n",
      "Enter your gender: Male\n",
      "Enter your age: 20\n",
      "You are not eligible for marriage.\n"
     ]
    }
   ],
   "source": [
    "#ElegiblityForMarriage.Elegible()\n",
    "\n",
    "name=input(\"Enter your name: \")\n",
    "gender=input(\"Enter your gender: \").lower()\n",
    "age=int(input(\"Enter your age: \"))\n",
    "if (gender in (\"male\",\"m\")):\n",
    "        \n",
    "    \n",
    "        if(age >= 21):\n",
    "            print(\"You are eligible for marriage.\")\n",
    "        \n",
    "        else:\n",
    "            print(\"You are not eligible for marriage.\")"
   ]
  },
  {
   "cell_type": "code",
   "execution_count": null,
   "id": "3641e01c",
   "metadata": {},
   "outputs": [],
   "source": []
  }
 ],
 "metadata": {
  "kernelspec": {
   "display_name": "Python 3 (ipykernel)",
   "language": "python",
   "name": "python3"
  },
  "language_info": {
   "codemirror_mode": {
    "name": "ipython",
    "version": 3
   },
   "file_extension": ".py",
   "mimetype": "text/x-python",
   "name": "python",
   "nbconvert_exporter": "python",
   "pygments_lexer": "ipython3",
   "version": "3.10.15"
  }
 },
 "nbformat": 4,
 "nbformat_minor": 5
}
