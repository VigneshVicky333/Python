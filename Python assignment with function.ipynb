{
 "cells": [
  {
   "cell_type": "code",
   "execution_count": 2,
   "id": "308bfc8a",
   "metadata": {},
   "outputs": [],
   "source": [
    "#print Statement\n",
    "def hope():\n",
    "    print(\"HOPE AI\")"
   ]
  },
  {
   "cell_type": "code",
   "execution_count": 3,
   "id": "516af10d",
   "metadata": {},
   "outputs": [
    {
     "name": "stdout",
     "output_type": "stream",
     "text": [
      "HOPE AI\n"
     ]
    }
   ],
   "source": [
    "hope()"
   ]
  },
  {
   "cell_type": "code",
   "execution_count": 4,
   "id": "a19b4384",
   "metadata": {},
   "outputs": [],
   "source": [
    "#Welcome to Assignment-1\n",
    "def assignment():\n",
    "    print(\"Welcome to Assignment-1\")"
   ]
  },
  {
   "cell_type": "code",
   "execution_count": 5,
   "id": "3dc442f2",
   "metadata": {},
   "outputs": [
    {
     "name": "stdout",
     "output_type": "stream",
     "text": [
      "Welcome to Assignment-1\n"
     ]
    }
   ],
   "source": [
    "assignment()"
   ]
  },
  {
   "cell_type": "code",
   "execution_count": 6,
   "id": "70c27de1",
   "metadata": {},
   "outputs": [],
   "source": [
    "# Buy input\n",
    "def institutename():\n",
    "    num1=input(\"Enter your institute name:?\")"
   ]
  },
  {
   "cell_type": "code",
   "execution_count": 7,
   "id": "0f4b20bd",
   "metadata": {},
   "outputs": [
    {
     "name": "stdout",
     "output_type": "stream",
     "text": [
      "Enter your institute name:?HopeAi\n"
     ]
    }
   ],
   "source": [
    "institutename()"
   ]
  },
  {
   "cell_type": "code",
   "execution_count": 8,
   "id": "0723ecd3",
   "metadata": {},
   "outputs": [],
   "source": [
    "def add():\n",
    "    num1=10\n",
    "    num2=30\n",
    "    add=num1+num2\n",
    "    print(add)"
   ]
  },
  {
   "cell_type": "code",
   "execution_count": 9,
   "id": "a4a5454a",
   "metadata": {},
   "outputs": [
    {
     "name": "stdout",
     "output_type": "stream",
     "text": [
      "40\n"
     ]
    }
   ],
   "source": [
    "add()"
   ]
  },
  {
   "cell_type": "code",
   "execution_count": 10,
   "id": "b7cfdfd1",
   "metadata": {},
   "outputs": [],
   "source": [
    "#Body Mass Index\n",
    "def bmi():\n",
    "    print(\"BMI Index Calculator:\")\n",
    "    Value=int(input(\"Enter the BMI Index :\"))\n",
    "    if(Value<18.5):\n",
    "        print(\"Under Weight\")\n",
    "    elif(Value<24.9):\n",
    "        print(\"Normal\")\n",
    "    elif(Value<29.9):\n",
    "        print(\"Over Weight\")\n",
    "    elif(Value<39.9):\n",
    "        print(\"Obese\")\n",
    "    else:\n",
    "        print(\"Extremely Obese\")"
   ]
  },
  {
   "cell_type": "code",
   "execution_count": 11,
   "id": "e28a4add",
   "metadata": {},
   "outputs": [
    {
     "name": "stdout",
     "output_type": "stream",
     "text": [
      "BMI Index Calculator:\n",
      "Enter the BMI Index :34\n",
      "Obese\n"
     ]
    }
   ],
   "source": [
    "bmi()"
   ]
  },
  {
   "cell_type": "code",
   "execution_count": 12,
   "id": "e28b1842",
   "metadata": {},
   "outputs": [],
   "source": [
    "#Buy inputs\n",
    "def details():\n",
    "    Name=input(\"Enter your name:\")\n",
    "    Age=input(\"Enter your age:\")\n",
    "    SchoolName=input(\"Enter your school name:\")\n",
    "    Degree=input(\"Enter your degree:\")"
   ]
  },
  {
   "cell_type": "code",
   "execution_count": 13,
   "id": "a6bc684d",
   "metadata": {},
   "outputs": [
    {
     "name": "stdout",
     "output_type": "stream",
     "text": [
      "Enter your name:vicky\n",
      "Enter your age:33\n",
      "Enter your school name:st.joseph\n",
      "Enter your degree:BE\n"
     ]
    }
   ],
   "source": [
    "details()"
   ]
  },
  {
   "cell_type": "code",
   "execution_count": 14,
   "id": "cba3a940",
   "metadata": {},
   "outputs": [],
   "source": [
    "#Addition\n",
    "def addition():\n",
    "    A=int(input(\"a=\"))\n",
    "    B=int(input(\"b=\"))\n",
    "    add=(A+B)\n",
    "    print(\"add=\",add)"
   ]
  },
  {
   "cell_type": "code",
   "execution_count": 15,
   "id": "747f3dc6",
   "metadata": {},
   "outputs": [
    {
     "name": "stdout",
     "output_type": "stream",
     "text": [
      "a=10\n",
      "b=20\n",
      "add= 30\n"
     ]
    }
   ],
   "source": [
    "addition()"
   ]
  },
  {
   "cell_type": "code",
   "execution_count": 16,
   "id": "f61a72a6",
   "metadata": {},
   "outputs": [],
   "source": [
    "#Subtraction\n",
    "def subtraction():\n",
    "    A=int(input(\"a=\"))\n",
    "    B=int(input(\"b=\"))\n",
    "    Sub=(A-B)\n",
    "    print(\"Sub=\",Sub)"
   ]
  },
  {
   "cell_type": "code",
   "execution_count": 17,
   "id": "c1ea706d",
   "metadata": {},
   "outputs": [
    {
     "name": "stdout",
     "output_type": "stream",
     "text": [
      "a=12\n",
      "b=10\n",
      "Sub= 2\n"
     ]
    }
   ],
   "source": [
    "subtraction()"
   ]
  },
  {
   "cell_type": "code",
   "execution_count": 18,
   "id": "13e0909b",
   "metadata": {},
   "outputs": [],
   "source": [
    "#Multiplication\n",
    "def Multiplication():\n",
    "    A=int(input(\"a=\"))\n",
    "    B=int(input(\"b=\"))\n",
    "    Mul=(A*B)\n",
    "    print(\"Mul=\",Mul)"
   ]
  },
  {
   "cell_type": "code",
   "execution_count": 19,
   "id": "cd4f8bc0",
   "metadata": {},
   "outputs": [
    {
     "name": "stdout",
     "output_type": "stream",
     "text": [
      "a=2\n",
      "b=3\n",
      "Mul= 6\n"
     ]
    }
   ],
   "source": [
    "Multiplication()"
   ]
  },
  {
   "cell_type": "code",
   "execution_count": 20,
   "id": "1e80c589",
   "metadata": {},
   "outputs": [],
   "source": [
    "#Division \n",
    "#In divison, it will repeat all the values along with the decimal values.\n",
    "\n",
    "def division():\n",
    "    A=int(input(\"a=\"))\n",
    "    B=int(input(\"b=\"))\n",
    "    Div=(A/B)\n",
    "    print(\"Div=\",Div)"
   ]
  },
  {
   "cell_type": "code",
   "execution_count": 21,
   "id": "e81359b6",
   "metadata": {},
   "outputs": [
    {
     "name": "stdout",
     "output_type": "stream",
     "text": [
      "a=33\n",
      "b=3\n",
      "Div= 11.0\n"
     ]
    }
   ],
   "source": [
    "division()"
   ]
  },
  {
   "cell_type": "code",
   "execution_count": 22,
   "id": "b719f3cd",
   "metadata": {},
   "outputs": [],
   "source": [
    "#Floor division\n",
    "#In floor divison operator, it wont take the values after the decimal point.\n",
    "#Example: 10/3=3.3333\n",
    "#It will take only(Qutotinet la irukara integer part uhh mattum than repeat pannum) 3 as integer, and reject the decimal values.\n",
    "\n",
    "def floordivison():\n",
    "    A=int(input(\"a=\"))\n",
    "    B=int(input(\"b=\"))\n",
    "    floordivison=(A//B)\n",
    "    print(\"floordivison=\",floordivison)"
   ]
  },
  {
   "cell_type": "code",
   "execution_count": 23,
   "id": "d07a9db7",
   "metadata": {},
   "outputs": [
    {
     "name": "stdout",
     "output_type": "stream",
     "text": [
      "a=22\n",
      "b=2\n",
      "floordivison= 11\n"
     ]
    }
   ],
   "source": [
    "floordivison()"
   ]
  },
  {
   "cell_type": "code",
   "execution_count": 24,
   "id": "d664c70d",
   "metadata": {},
   "outputs": [],
   "source": [
    "#Modulo\n",
    "#In modulo, the same eg:10/3, decimal point vecha tha further uhh divide panna mudiyum na, athu stop panidum, remainder value(in this  eg;1) uhh return pannum.\n",
    "\n",
    "def modulo():\n",
    "    A=int(input(\"a=\"))\n",
    "    B=int(input(\"b=\"))\n",
    "    Modulo=(A%B)\n",
    "    print(\"Modulo=\",Modulo)"
   ]
  },
  {
   "cell_type": "code",
   "execution_count": 25,
   "id": "8bbdd7dc",
   "metadata": {},
   "outputs": [
    {
     "name": "stdout",
     "output_type": "stream",
     "text": [
      "a=22\n",
      "b=2\n",
      "Modulo= 0\n"
     ]
    }
   ],
   "source": [
    "modulo()"
   ]
  },
  {
   "cell_type": "code",
   "execution_count": 26,
   "id": "a7b212e8",
   "metadata": {},
   "outputs": [],
   "source": [
    "#Power\n",
    "#Power means a**b eg:10**3=10x10x10=1000\n",
    "\n",
    "def power():\n",
    "    A=int(input(\"a=\"))\n",
    "    B=int(input(\"b=\"))\n",
    "    Power=(A**B)\n",
    "    print(\"Power=\",Power)"
   ]
  },
  {
   "cell_type": "code",
   "execution_count": 27,
   "id": "7f4ff6f0",
   "metadata": {},
   "outputs": [
    {
     "name": "stdout",
     "output_type": "stream",
     "text": [
      "a=3\n",
      "b=2\n",
      "Power= 9\n"
     ]
    }
   ],
   "source": [
    "power()"
   ]
  },
  {
   "cell_type": "code",
   "execution_count": 28,
   "id": "2aceb985",
   "metadata": {},
   "outputs": [],
   "source": [
    "# print 0 to 20 by using range\n",
    "\n",
    "def ranges():\n",
    "    for num in range(0,20):\n",
    "        print(num)"
   ]
  },
  {
   "cell_type": "code",
   "execution_count": 29,
   "id": "afae8055",
   "metadata": {},
   "outputs": [
    {
     "name": "stdout",
     "output_type": "stream",
     "text": [
      "0\n",
      "1\n",
      "2\n",
      "3\n",
      "4\n",
      "5\n",
      "6\n",
      "7\n",
      "8\n",
      "9\n",
      "10\n",
      "11\n",
      "12\n",
      "13\n",
      "14\n",
      "15\n",
      "16\n",
      "17\n",
      "18\n",
      "19\n"
     ]
    }
   ],
   "source": [
    "ranges()"
   ]
  },
  {
   "cell_type": "code",
   "execution_count": 30,
   "id": "ad3c3dad",
   "metadata": {},
   "outputs": [],
   "source": [
    "# print range 10 to 20\n",
    "\n",
    "def ranges1():\n",
    "    for num in range(10,20):\n",
    "        print(num)"
   ]
  },
  {
   "cell_type": "code",
   "execution_count": 31,
   "id": "554d3e5b",
   "metadata": {},
   "outputs": [
    {
     "name": "stdout",
     "output_type": "stream",
     "text": [
      "10\n",
      "11\n",
      "12\n",
      "13\n",
      "14\n",
      "15\n",
      "16\n",
      "17\n",
      "18\n",
      "19\n"
     ]
    }
   ],
   "source": [
    "ranges1()"
   ]
  },
  {
   "cell_type": "code",
   "execution_count": 32,
   "id": "0abf2c51",
   "metadata": {},
   "outputs": [],
   "source": [
    "# Print number of items in the list by using 'len'\n",
    "\n",
    "def length():\n",
    "    my_list = [10, 20, 14, 55, 43,87,76]\n",
    "    number_of_items = len(my_list)\n",
    "    print(\"Number of items in the list:\",number_of_items)"
   ]
  },
  {
   "cell_type": "code",
   "execution_count": 33,
   "id": "eff3f010",
   "metadata": {},
   "outputs": [
    {
     "name": "stdout",
     "output_type": "stream",
     "text": [
      "Number of items in the list: 7\n"
     ]
    }
   ],
   "source": [
    "length()"
   ]
  },
  {
   "cell_type": "code",
   "execution_count": 34,
   "id": "1a456a7e",
   "metadata": {},
   "outputs": [],
   "source": [
    "#vertical printing\n",
    "\n",
    "def vertical():\n",
    "    name=input(\"Enter name:\")\n",
    "    print(\"ARTIFICIAL INTELLIGENCE\")\n",
    "    for x in name:\n",
    "        print(x)"
   ]
  },
  {
   "cell_type": "code",
   "execution_count": 35,
   "id": "1f5ab578",
   "metadata": {},
   "outputs": [
    {
     "name": "stdout",
     "output_type": "stream",
     "text": [
      "Enter name:ARTIFICIAL INTELLIGENCE\n",
      "'ARTIFICIAL INTELLIGENCE\n",
      "A\n",
      "R\n",
      "T\n",
      "I\n",
      "F\n",
      "I\n",
      "C\n",
      "I\n",
      "A\n",
      "L\n",
      " \n",
      "I\n",
      "N\n",
      "T\n",
      "E\n",
      "L\n",
      "L\n",
      "I\n",
      "G\n",
      "E\n",
      "N\n",
      "C\n",
      "E\n"
     ]
    }
   ],
   "source": [
    "vertical()"
   ]
  },
  {
   "cell_type": "code",
   "execution_count": 2,
   "id": "6d018557",
   "metadata": {},
   "outputs": [],
   "source": [
    "# Tuple unpacking\n",
    "\n",
    "def tuples():\n",
    "    Tuple1 = (\"-Your name-\", \"-Your Age-\", \"-Your Profession-\")\n",
    "\n",
    "# This line unpack\n",
    "# values of Tuple1\n",
    "    a, b, c = Tuple1\n",
    "    print(a)\n",
    "    print(b)\n",
    "    print(c)"
   ]
  },
  {
   "cell_type": "code",
   "execution_count": 4,
   "id": "44111d9a",
   "metadata": {},
   "outputs": [
    {
     "name": "stdout",
     "output_type": "stream",
     "text": [
      "-Your name-\n",
      "-Your Age-\n",
      "-Your Profession-\n"
     ]
    }
   ],
   "source": [
    "tuples()"
   ]
  },
  {
   "cell_type": "code",
   "execution_count": 3,
   "id": "b6d79306",
   "metadata": {},
   "outputs": [],
   "source": [
    "# Print This mixered datatype using Tuples\n",
    "\n",
    "def originallist():\n",
    "    test_list = [(1, 'Welcome'), (2, 'Hope')]\n",
    "    print(str(test_list))"
   ]
  },
  {
   "cell_type": "code",
   "execution_count": 38,
   "id": "bf66badf",
   "metadata": {},
   "outputs": [
    {
     "name": "stdout",
     "output_type": "stream",
     "text": [
      "[(1, 'Welcome'), (2, 'Hope')]\n"
     ]
    }
   ],
   "source": [
    "originallist()"
   ]
  },
  {
   "cell_type": "code",
   "execution_count": 39,
   "id": "617decd7",
   "metadata": {},
   "outputs": [],
   "source": [
    "# Creating a Tuple\n",
    "# with nested tuples\n",
    "\n",
    "def creatingT():\n",
    "    Tuple1 = (0, 1, 2, 3)\n",
    "    Tuple2 = ('python', 'Hope')\n",
    "    Tuple3 = (Tuple1, Tuple2)\n",
    "\n",
    "    print(Tuple3)"
   ]
  },
  {
   "cell_type": "code",
   "execution_count": 40,
   "id": "0237108b",
   "metadata": {},
   "outputs": [
    {
     "name": "stdout",
     "output_type": "stream",
     "text": [
      "((0, 1, 2, 3), ('python', 'Hope'))\n"
     ]
    }
   ],
   "source": [
    "creatingT()"
   ]
  },
  {
   "cell_type": "code",
   "execution_count": 41,
   "id": "93401ab5",
   "metadata": {},
   "outputs": [],
   "source": [
    "# print Odd Numbers in the list\n",
    "\n",
    "# Python program to print odd Numbers in a List\n",
    "\n",
    "# list of numbers\n",
    "\n",
    "def odd():\n",
    "    list1 = [20,10,16,19,25,1,276,188]\n",
    "\n",
    "# iterating each number in list\n",
    "    for num in list1:\n",
    "\n",
    "        # checking condition\n",
    "        if num % 2 != 0:\n",
    "            print(num, end=\" \")"
   ]
  },
  {
   "cell_type": "code",
   "execution_count": 42,
   "id": "c86ef205",
   "metadata": {},
   "outputs": [
    {
     "name": "stdout",
     "output_type": "stream",
     "text": [
      "19 25 1 "
     ]
    }
   ],
   "source": [
    "odd()"
   ]
  },
  {
   "cell_type": "code",
   "execution_count": 43,
   "id": "b9f25d68",
   "metadata": {},
   "outputs": [],
   "source": [
    "# print Even numbers in the list\n",
    "\n",
    "# list of numbers\n",
    "\n",
    "def even():\n",
    "    list1 = [20,10,16,19,25,1,276,188]\n",
    "\n",
    "# iterating each number in list\n",
    "    for num in list1:\n",
    "\n",
    "        # checking condition\n",
    "        if num % 2 == 0:\n",
    "            print(num, end=\" \")"
   ]
  },
  {
   "cell_type": "code",
   "execution_count": 44,
   "id": "8b5acd56",
   "metadata": {},
   "outputs": [
    {
     "name": "stdout",
     "output_type": "stream",
     "text": [
      "20 10 16 276 188 "
     ]
    }
   ],
   "source": [
    "even()"
   ]
  },
  {
   "cell_type": "code",
   "execution_count": 45,
   "id": "16032407",
   "metadata": {},
   "outputs": [
    {
     "name": "stdout",
     "output_type": "stream",
     "text": [
      "Sub-Fields in AI are:\n",
      "Machine Learning\n",
      "Neural Networks\n",
      "Vision\n",
      "Robotics\n",
      "Speech Processing\n",
      "Natural Language Processing\n"
     ]
    }
   ],
   "source": [
    "# Create a class and function, and list out the items in the list\n",
    "\n",
    "class AISubfields:\n",
    "    def display_subfields():\n",
    "        # Print the list of subfields\n",
    "        print(\"Sub-Fields in AI are:\")\n",
    "        subfields = [\"Machine Learning\", \"Neural Networks\", \"Vision\", \"Robotics\", \"Speech Processing\", \"Natural Language Processing\"]\n",
    "        for field in subfields:\n",
    "            print(field)\n",
    "\n",
    "AISubfields.display_subfields()"
   ]
  },
  {
   "cell_type": "code",
   "execution_count": 46,
   "id": "522ff9f4",
   "metadata": {},
   "outputs": [],
   "source": [
    "# Create a function that checks whether the given number is Odd or Even\n",
    "\n",
    "def oddeven():\n",
    "    num=int(input(\"Enter the number:\"))\n",
    "    if ((num%2)==1):\n",
    "        print(\"Odd number\")\n",
    "    else:\n",
    "        print(\"even number\")"
   ]
  },
  {
   "cell_type": "code",
   "execution_count": 47,
   "id": "783666d6",
   "metadata": {},
   "outputs": [
    {
     "name": "stdout",
     "output_type": "stream",
     "text": [
      "Enter the number:21\n",
      "Odd number\n"
     ]
    }
   ],
   "source": [
    "oddeven()"
   ]
  },
  {
   "cell_type": "code",
   "execution_count": 48,
   "id": "ae2acf95",
   "metadata": {},
   "outputs": [],
   "source": [
    "def mark():\n",
    "    marks1= int(input(\"Subject1::\"))\n",
    "    marks2= int(input(\"Subject2::\"))\n",
    "    marks3= int(input(\"Subject3::\"))\n",
    "    marks4= int(input(\"Subject4::\"))\n",
    "    marks5= int(input(\"Subject5::\"))\n",
    "    \n",
    "    Total=(marks1+marks2+marks3+marks4+marks5)\n",
    "    average = (marks1+marks2+marks3)/5\n",
    "    percentage =(average/Total)*100\n",
    "    print(\"Total :\",Total)\n",
    "    print(\"average::\",average )"
   ]
  },
  {
   "cell_type": "code",
   "execution_count": 49,
   "id": "273f47f0",
   "metadata": {},
   "outputs": [
    {
     "name": "stdout",
     "output_type": "stream",
     "text": [
      "Subject1::98\n",
      "Subject2::87\n",
      "Subject3::95\n",
      "Subject4::95\n",
      "Subject5::93\n",
      "Total : 468\n",
      "average:: 56.0\n"
     ]
    }
   ],
   "source": [
    " mark()"
   ]
  },
  {
   "cell_type": "code",
   "execution_count": 50,
   "id": "f086368c",
   "metadata": {},
   "outputs": [],
   "source": [
    "#print area and perimeter of triangle using class and functions\n",
    "\n",
    "def area():\n",
    "    b = float(input('Enter base of a triangle: '))\n",
    "    h = float(input('Enter height of a triangle: '))\n",
    "\n",
    "    area = (b * h) / 2\n",
    "    print('The area of the triangle is %0.2f' % area)   "
   ]
  },
  {
   "cell_type": "code",
   "execution_count": 51,
   "id": "f2b898c7",
   "metadata": {},
   "outputs": [
    {
     "name": "stdout",
     "output_type": "stream",
     "text": [
      "Enter base of a triangle: 2\n",
      "Enter height of a triangle: 2\n",
      "The area of the triangle is 2.00\n"
     ]
    }
   ],
   "source": [
    "area()"
   ]
  },
  {
   "cell_type": "code",
   "execution_count": 52,
   "id": "8a0e4973",
   "metadata": {},
   "outputs": [
    {
     "name": "stdout",
     "output_type": "stream",
     "text": [
      "Side A: 2\n",
      "Side B: 4\n",
      "Side C: 4\n",
      "Perimeter: 10.0\n"
     ]
    }
   ],
   "source": [
    "def triangle_perimeter(a,b,c):\n",
    "  return round(a + b + c, 4)\n",
    "\n",
    "side_a = float(input(\"Side A: \"))\n",
    "\n",
    "# Do the same for side lengths 'b' and 'c'\n",
    "side_b = float(input(\"Side B: \"))\n",
    "side_c = float(input(\"Side C: \"))\n",
    "\n",
    "# Compute the perimeter of the triangle using the function triangle_perimeter()\n",
    "perimeter = triangle_perimeter(side_a,side_b,side_c)\n",
    "\n",
    "# Output the computed perimeter of the triangle, prepended with \"Perimeter:\"\n",
    "print(\"Perimeter:\", perimeter)"
   ]
  },
  {
   "cell_type": "code",
   "execution_count": 53,
   "id": "76b7ca47",
   "metadata": {},
   "outputs": [],
   "source": [
    "def correct():\n",
    "    a=int(input(\"value:\"))\n",
    "    if(a<18):\n",
    "        print(\"Correct\")\n",
    "    else:\n",
    "        print(\"wrong\")"
   ]
  },
  {
   "cell_type": "code",
   "execution_count": 54,
   "id": "fc3d5076",
   "metadata": {},
   "outputs": [
    {
     "name": "stdout",
     "output_type": "stream",
     "text": [
      "value:10\n",
      "Correct\n"
     ]
    }
   ],
   "source": [
    "correct()"
   ]
  },
  {
   "cell_type": "code",
   "execution_count": 56,
   "id": "291277d7",
   "metadata": {},
   "outputs": [],
   "source": [
    "# Check the password, using if and else\n",
    "\n",
    "def check():\n",
    "    username=input(\"enter the username:\")\n",
    "    password=input(\"enter the password:\")\n",
    "    if username== \"Hope\" and password ==\"Hope@123\":\n",
    "        print(\"Your password is correct\")"
   ]
  },
  {
   "cell_type": "code",
   "execution_count": 57,
   "id": "68773bad",
   "metadata": {},
   "outputs": [
    {
     "name": "stdout",
     "output_type": "stream",
     "text": [
      "enter the username:Hope\n",
      "enter the password:Hope@123\n",
      "Your password is correct\n"
     ]
    }
   ],
   "source": [
    "check()"
   ]
  },
  {
   "cell_type": "code",
   "execution_count": 58,
   "id": "207de83a",
   "metadata": {},
   "outputs": [],
   "source": [
    "#Catagory the people by their age like children, adult, citizen, senior citizen\n",
    "\n",
    "def agecat():\n",
    "    age=int(input(\"Enter the age:\"))\n",
    "    if(age<18):\n",
    "        print(\"Children\")\n",
    "    elif(age<25):\n",
    "        print(\"Adult\")\n",
    "    elif(age<35):\n",
    "        print(\"Citizen\")\n",
    "    else:\n",
    "        print(\"Senior Citizen\")"
   ]
  },
  {
   "cell_type": "code",
   "execution_count": 59,
   "id": "8166253e",
   "metadata": {},
   "outputs": [
    {
     "name": "stdout",
     "output_type": "stream",
     "text": [
      "Enter the age:20\n",
      "Adult\n"
     ]
    }
   ],
   "source": [
    "agecat()"
   ]
  },
  {
   "cell_type": "code",
   "execution_count": 60,
   "id": "cc210bf8",
   "metadata": {},
   "outputs": [],
   "source": [
    "# Find whether given number is positive or negative\n",
    "\n",
    "#If a number is greater than zero, it is a positive number. \n",
    "#If a number is less than zero, it is a negative number. \n",
    "#If a number equals to zero, it is zero.\n",
    "\n",
    "\n",
    "def positive():\n",
    "    num = float(input(\"Enter a number: \"))\n",
    "    if num > 0:\n",
    "       print(\"Positive number\")\n",
    "    elif num == 0:\n",
    "       print(\"Zero\")\n",
    "    else:\n",
    "       print(\"Negative number\")"
   ]
  },
  {
   "cell_type": "code",
   "execution_count": 61,
   "id": "c273a067",
   "metadata": {},
   "outputs": [
    {
     "name": "stdout",
     "output_type": "stream",
     "text": [
      "Enter a number: 1\n",
      "Positive number\n"
     ]
    }
   ],
   "source": [
    "positive()"
   ]
  },
  {
   "cell_type": "code",
   "execution_count": 62,
   "id": "f83cd85f",
   "metadata": {},
   "outputs": [],
   "source": [
    "# Check whether the given number is divisible by 5\n",
    "\n",
    "#The divisibility rule of 5 states that \n",
    "#if the digit on the units place, that is, \n",
    "#the last digit of a given number is 5 or 0, \n",
    "#then such a number is divisible by 5. \n",
    "#For example, in 39865, the last digit is 5, \n",
    "#hence, the number is completely divisible by 5.\n",
    "\n",
    "def divisible():\n",
    "    num = float(input(\"Enter a number: \"))\n",
    "    if num%5 == 0: \n",
    "        print(\"The number entered is divisible by 5.\")\n",
    "\n",
    "    else: print(\"The number entered isn't divisible by 5.\")\n"
   ]
  },
  {
   "cell_type": "code",
   "execution_count": 63,
   "id": "69d5887d",
   "metadata": {},
   "outputs": [
    {
     "name": "stdout",
     "output_type": "stream",
     "text": [
      "Enter a number: 22\n",
      "The number entered isn't divisible by 5.\n"
     ]
    }
   ],
   "source": [
    "divisible()"
   ]
  },
  {
   "cell_type": "code",
   "execution_count": 64,
   "id": "8d3932c1",
   "metadata": {},
   "outputs": [],
   "source": [
    "#ElegiblityForMarriage.Elegible()\n",
    "\n",
    "def eligibility():\n",
    "    name=input(\"Enter your name: \")\n",
    "    gender=input(\"Enter your gender: \").lower()\n",
    "    age=int(input(\"Enter your age: \"))\n",
    "    if (gender in (\"male\",\"m\")):\n",
    "\n",
    "\n",
    "            if(age >= 21):\n",
    "                print(\"You are eligible for marriage.\")\n",
    "\n",
    "            else:\n",
    "                print(\"You are not eligible for marriage.\")"
   ]
  },
  {
   "cell_type": "code",
   "execution_count": 65,
   "id": "34aed9c4",
   "metadata": {},
   "outputs": [
    {
     "name": "stdout",
     "output_type": "stream",
     "text": [
      "Enter your name: vicky\n",
      "Enter your gender: male\n",
      "Enter your age: 33\n",
      "You are eligible for marriage.\n"
     ]
    }
   ],
   "source": [
    "eligibility()"
   ]
  },
  {
   "cell_type": "code",
   "execution_count": null,
   "id": "f59274aa",
   "metadata": {},
   "outputs": [],
   "source": []
  }
 ],
 "metadata": {
  "kernelspec": {
   "display_name": "Python 3 (ipykernel)",
   "language": "python",
   "name": "python3"
  },
  "language_info": {
   "codemirror_mode": {
    "name": "ipython",
    "version": 3
   },
   "file_extension": ".py",
   "mimetype": "text/x-python",
   "name": "python",
   "nbconvert_exporter": "python",
   "pygments_lexer": "ipython3",
   "version": "3.10.15"
  }
 },
 "nbformat": 4,
 "nbformat_minor": 5
}
